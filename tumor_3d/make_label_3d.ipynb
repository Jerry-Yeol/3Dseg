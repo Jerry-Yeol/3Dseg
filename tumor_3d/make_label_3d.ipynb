{
 "cells": [
  {
   "cell_type": "code",
   "execution_count": 1,
   "metadata": {},
   "outputs": [],
   "source": [
    "from utils import *\n",
    "import os, glob\n",
    "import numpy as np\n",
    "import pydicom as di\n",
    "import pandas as pd\n",
    "from matplotlib import pyplot as plt\n",
    "\n",
    "%matplotlib inline"
   ]
  },
  {
   "cell_type": "markdown",
   "metadata": {},
   "source": [
    "# 3D Affine Formulae\n",
    "---\n",
    "\\begin{align}\n",
    "\\mathbf{A}_{multi} = \\begin{vmatrix}\n",
    "F_{11}\\Delta_r & F_{12}\\Delta_c & \\frac{T_1^1-T_1^N}{1-N} & T_1^1 \\\\\n",
    "F_{21}\\Delta_r & F_{22}\\Delta_c & \\frac{T_2^1-T_2^N}{1-N} & T_2^1 \\\\\n",
    "F_{31}\\Delta_r & F_{32}\\Delta_c & \\frac{T_3^1-T_3^N}{1-N} & T_3^1 \\\\\n",
    "0 & 0 & 0 & 1\n",
    "\\end{vmatrix}\n",
    "\\end{align}"
   ]
  },
  {
   "cell_type": "markdown",
   "metadata": {},
   "source": [
    "- $F_{ij}$ : ImageOrientationPatient 정보 \n",
    "    - ($i_1$, $i_2$, $i_3$, $i_4$, $i_5$, $i_6$) = ($F_{12}$, $F_{22}$, $F_{32}$, $F_{11}$, $F_{21}$, $F_{31}$)  \n",
    "    \n",
    "- $\\Delta_r$ : Row spacing  \n",
    "\n",
    "- $\\Delta_c$ : Col spacing  \n",
    "\n",
    "- $T_1$ : 첫번째 DICOM 의 ImagePositionPatient 정보\n",
    "    - (X, Y, Z) 형식  \n",
    "\n",
    "- $T_N$ : 마지막 DICOM 의 ImagePositionPatient 정보\n",
    "    - (X, Y, Z) 형식  \n",
    "    \n",
    "- $1-N$ : 1 - DICOM 갯수  \n",
    "\n",
    "\n",
    "\n",
    "- $(X_{csv}, Y_{csv}, Z_{csv}, 1) = A_{multi} * (X,Y,Z,1)$  \n",
    "\n",
    "- labeling 할때는 $(X,Y,Z,1) = inv(A_{multi}) * (X_{csv}, Y_{csv}, Z_{csv}, 1)$ 해줘야함."
   ]
  },
  {
   "cell_type": "code",
   "execution_count": 4,
   "metadata": {
    "scrolled": true
   },
   "outputs": [
    {
     "name": "stdout",
     "output_type": "stream",
     "text": [
      "12653\n",
      "12841\n",
      "12575\n",
      "12803\n",
      "12127\n",
      "11439\n",
      "12459\n",
      "5569\n",
      "11900\n",
      "12280\n",
      "12422\n",
      "11906\n",
      "11760\n",
      "7360\n",
      "11534\n",
      "11498\n",
      "6002\n",
      "6702\n",
      "12259\n",
      "12735\n"
     ]
    }
   ],
   "source": [
    "to_path = './data/'\n",
    "\n",
    "num_path = os.listdir(to_path)\n",
    "num_path.remove('input')\n",
    "num_path.remove('.ipynb_checkpoints')\n",
    "num_path.sort()\n",
    "\n",
    "dep=186\n",
    "size= 128\n",
    "\n",
    "data_img = None\n",
    "data_lab = None\n",
    "\n",
    "for num in num_path:\n",
    "    data_path = os.listdir(to_path+num)\n",
    "    \n",
    "    \n",
    "    for idx, data in enumerate(data_path):\n",
    "        \n",
    "        tmp_img = np.zeros([1, dep, size, size])\n",
    "        tmp_ground = np.zeros([1, dep, size, size])\n",
    "        \n",
    "        if data in ['12692', '11961'] : continue\n",
    "        print(data)\n",
    "        img, ground, ori_coor = make_data(to_path, num, data, use_scale=False)\n",
    "        diff = dep - len(img)\n",
    "        \n",
    "        img = resizing_data(img, size)\n",
    "        \n",
    "        tmp_img[0,diff:,:,:]=img\n",
    "        tmp_img = (tmp_img - tmp_img.min())/(tmp_img.max() - tmp_img.min())\n",
    "        \n",
    "        ground = resizing_data(ground, size)\n",
    "        tmp_ground[0,diff:,:,:]=ground\n",
    "        \n",
    "        if str(data_img)=='None':\n",
    "            data_img = tmp_img\n",
    "            data_lab = tmp_ground\n",
    "        else:\n",
    "            data_img = np.concatenate((data_img, tmp_img), axis=0)\n",
    "            data_lab = np.concatenate((data_lab, tmp_ground), axis=0)"
   ]
  },
  {
   "cell_type": "code",
   "execution_count": 5,
   "metadata": {},
   "outputs": [],
   "source": [
    "np.savez('./data/input/data_3d_minmax_128_186', img=data_img, lab = data_lab)"
   ]
  },
  {
   "cell_type": "markdown",
   "metadata": {},
   "source": [
    "# 01\n",
    "---\n",
    "12575 : 171  \n",
    "12653 : 170  \n",
    "12692 : 156  \n",
    "12803 : 160  \n",
    "12841 : 156  \n",
    "\n",
    "# 02\n",
    "---\n",
    "11439 : :187.dcm   (:186) 186  \n",
    "11900 : 84.dcm:    (83:)  175  \n",
    "11906 : :152.dcm   (:151) 151  \n",
    "11961 : 25.dcm:    (24:)  167  \n",
    "12127 : 25.dcm:    (24:)  156  \n",
    "12280 : 25.dcm:    (24:)  139  \n",
    "12422 : 25.dcm:    (24:)  156  \n",
    "12459 : 25.dcm:    (24:)  163  \n",
    " 5569 : 25.dcm:    (24:)  152  \n",
    "\n",
    "# 03\n",
    "---\n",
    "11498 : 25.dcm:205.dcm (24:204)  180  \n",
    "11534 : 89.dcm:        (88:)     175  \n",
    "11760 : :185.dcm       (:184)    184  \n",
    "12259 : 25.dcm:203.dcm (24:202)  178  \n",
    "12735 : 25.dcm:        (24:)     154  \n",
    " 6002 : 61.dcm:203.dcm (60:202)  142  \n",
    " 6702 : :161.dcm       (:160)    160  \n",
    " 7360 : 25.dcm:        (24:)     157  "
   ]
  },
  {
   "cell_type": "markdown",
   "metadata": {},
   "source": [
    "# MAX, MIN\n",
    "---\n",
    "\n",
    "- max : 186\n",
    "- min : 139\n",
    "- mean : 160"
   ]
  }
 ],
 "metadata": {
  "kernelspec": {
   "display_name": "Python 3",
   "language": "python",
   "name": "python3"
  },
  "language_info": {
   "codemirror_mode": {
    "name": "ipython",
    "version": 3
   },
   "file_extension": ".py",
   "mimetype": "text/x-python",
   "name": "python",
   "nbconvert_exporter": "python",
   "pygments_lexer": "ipython3",
   "version": "3.5.2"
  }
 },
 "nbformat": 4,
 "nbformat_minor": 2
}
