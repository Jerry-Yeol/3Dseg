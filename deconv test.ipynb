{
 "cells": [
  {
   "cell_type": "code",
   "execution_count": 1,
   "metadata": {},
   "outputs": [],
   "source": [
    "import tensorflow as tf\n",
    "import numpy as np"
   ]
  },
  {
   "cell_type": "code",
   "execution_count": 10,
   "metadata": {},
   "outputs": [],
   "source": [
    "def dice_coefficient(label, infer):\n",
    "    \n",
    "    label_flatten = tf.layers.flatten(label)\n",
    "    infer_flatten = tf.layers.flatten(infer)\n",
    "    TP = tf.reduce_sum(tf.cast(tf.equal(label_flatten,infer_flatten), dtype=tf.float32))\n",
    "    FN = tf.reduce_sum(tf.cast(tf.equal(label_flatten,(1-infer_flatten)), dtype=tf.float32))\n",
    "    FP = tf.reduce_sum(tf.cast(tf.equal((1-label_flatten),infer_flatten), dtype=tf.float32))\n",
    "    \n",
    "    bottom = FN+FP+(2*TP)\n",
    "    up = 2*TP\n",
    "    return up/bottom"
   ]
  },
  {
   "cell_type": "code",
   "execution_count": 3,
   "metadata": {},
   "outputs": [],
   "source": [
    "a = tf.constant(np.random.randint(0,3,[5,5])*0.5)\n",
    "b = tf.constant(np.random.randint(0,3,[5,5])*0.5)"
   ]
  },
  {
   "cell_type": "code",
   "execution_count": 4,
   "metadata": {},
   "outputs": [],
   "source": [
    "sess = tf.Session()"
   ]
  },
  {
   "cell_type": "code",
   "execution_count": 5,
   "metadata": {},
   "outputs": [
    {
     "name": "stdout",
     "output_type": "stream",
     "text": [
      "[[ 0.5  0.5  0.5  0.5  0.5]\n",
      " [ 0.5  0.   0.5  0.   1. ]\n",
      " [ 0.5  0.   1.   0.5  1. ]\n",
      " [ 0.   0.   0.5  1.   0.5]\n",
      " [ 0.5  0.   0.5  0.5  1. ]]\n"
     ]
    }
   ],
   "source": [
    "print(sess.run(a))\n"
   ]
  },
  {
   "cell_type": "code",
   "execution_count": 6,
   "metadata": {},
   "outputs": [
    {
     "name": "stdout",
     "output_type": "stream",
     "text": [
      "[[ 0.  0.  0.  0.  0.]\n",
      " [ 0.  0.  0.  0.  1.]\n",
      " [ 0.  0.  1.  0.  1.]\n",
      " [ 0.  0.  0.  1.  0.]\n",
      " [ 0.  0.  0.  0.  1.]]\n"
     ]
    }
   ],
   "source": [
    "print(sess.run(tf.round(a)))\n"
   ]
  },
  {
   "cell_type": "code",
   "execution_count": 7,
   "metadata": {},
   "outputs": [
    {
     "name": "stdout",
     "output_type": "stream",
     "text": [
      "[[ 1.   0.   0.   1.   0.5]\n",
      " [ 0.   1.   1.   1.   0. ]\n",
      " [ 0.   0.5  1.   0.5  0. ]\n",
      " [ 0.   0.5  0.   0.   1. ]\n",
      " [ 0.5  1.   0.   0.   0. ]]\n"
     ]
    }
   ],
   "source": [
    "print(sess.run(b))"
   ]
  },
  {
   "cell_type": "code",
   "execution_count": 11,
   "metadata": {},
   "outputs": [
    {
     "data": {
      "text/plain": [
       "0.33333334"
      ]
     },
     "execution_count": 11,
     "metadata": {},
     "output_type": "execute_result"
    }
   ],
   "source": [
    "sess.run(dice_coefficient(a,b))"
   ]
  },
  {
   "cell_type": "code",
   "execution_count": null,
   "metadata": {},
   "outputs": [],
   "source": []
  }
 ],
 "metadata": {
  "kernelspec": {
   "display_name": "Python 3",
   "language": "python",
   "name": "python3"
  },
  "language_info": {
   "codemirror_mode": {
    "name": "ipython",
    "version": 3
   },
   "file_extension": ".py",
   "mimetype": "text/x-python",
   "name": "python",
   "nbconvert_exporter": "python",
   "pygments_lexer": "ipython3",
   "version": "3.5.2"
  }
 },
 "nbformat": 4,
 "nbformat_minor": 2
}
