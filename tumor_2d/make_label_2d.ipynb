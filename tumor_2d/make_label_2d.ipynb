{
 "cells": [
  {
   "cell_type": "code",
   "execution_count": 1,
   "metadata": {},
   "outputs": [],
   "source": [
    "from utils import *\n",
    "import os, glob\n",
    "import numpy as np\n",
    "import dicom as di\n",
    "import nibabel as ni\n",
    "import pandas as pd\n",
    "from matplotlib import pyplot as plt\n",
    "\n",
    "%matplotlib inline"
   ]
  },
  {
   "cell_type": "markdown",
   "metadata": {},
   "source": [
    "# 3D Affine Formulae\n",
    "---\n",
    "\\begin{align}\n",
    "\\mathbf{A}_{multi} = \\begin{vmatrix}\n",
    "F_{11}\\Delta_r & F_{12}\\Delta_c & \\frac{T_1^1-T_1^N}{1-N} & T_1^1 \\\\\n",
    "F_{21}\\Delta_r & F_{22}\\Delta_c & \\frac{T_2^1-T_2^N}{1-N} & T_2^1 \\\\\n",
    "F_{31}\\Delta_r & F_{32}\\Delta_c & \\frac{T_3^1-T_3^N}{1-N} & T_3^1 \\\\\n",
    "0 & 0 & 0 & 1\n",
    "\\end{vmatrix}\n",
    "\\end{align}"
   ]
  },
  {
   "cell_type": "markdown",
   "metadata": {},
   "source": [
    "- $F_{ij}$ : ImageOrientationPatient 정보 \n",
    "    - ($i_1$, $i_2$, $i_3$, $i_4$, $i_5$, $i_6$) = ($F_{12}$, $F_{22}$, $F_{32}$, $F_{11}$, $F_{21}$, $F_{31}$)  \n",
    "    \n",
    "- $\\Delta_r$ : Row spacing  \n",
    "\n",
    "- $\\Delta_c$ : Col spacing  \n",
    "\n",
    "- $T_1$ : 첫번째 DICOM 의 ImagePositionPatient 정보\n",
    "    - (X, Y, Z) 형식  \n",
    "\n",
    "- $T_N$ : 마지막 DICOM 의 ImagePositionPatient 정보\n",
    "    - (X, Y, Z) 형식  \n",
    "    \n",
    "- $1-N$ : 1 - DICOM 갯수  \n",
    "\n",
    "\n",
    "\n",
    "- $(X_{csv}, Y_{csv}, Z_{csv}, 1) = A_{multi} * (X,Y,Z,1)$  \n",
    "\n",
    "- labeling 할때는 $(X,Y,Z,1) = inv(A_{multi}) * (X_{csv}, Y_{csv}, Z_{csv}, 1)$ 해줘야함."
   ]
  },
  {
   "cell_type": "code",
   "execution_count": 5,
   "metadata": {
    "scrolled": true
   },
   "outputs": [
    {
     "name": "stdout",
     "output_type": "stream",
     "text": [
      "Num : 01 , Data : 12653 , Image shape : (170, 256, 256)\n",
      "Num : 01 , Data : 12841 , Image shape : (156, 256, 256)\n",
      "Num : 01 , Data : 12575 , Image shape : (171, 256, 256)\n",
      "Num : 01 , Data : 12803 , Image shape : (160, 256, 256)\n",
      "----------------------------------------------------------------\n",
      "Num : 02 , Data : 12127 , Image shape : (157, 256, 256)\n",
      "Num : 02 , Data : 11439 , Image shape : (186, 256, 256)\n",
      "Num : 02 , Data : 12459 , Image shape : (164, 256, 256)\n",
      "Num : 02 , Data : 5569 , Image shape : (153, 256, 256)\n",
      "Num : 02 , Data : 11900 , Image shape : (176, 256, 256)\n",
      "Num : 02 , Data : 12280 , Image shape : (140, 256, 256)\n",
      "Num : 02 , Data : 12422 , Image shape : (157, 256, 256)\n",
      "Num : 02 , Data : 11906 , Image shape : (151, 256, 256)\n",
      "----------------------------------------------------------------\n",
      "Num : 03 , Data : 11760 , Image shape : (184, 256, 256)\n",
      "Num : 03 , Data : 7360 , Image shape : (158, 256, 256)\n",
      "Num : 03 , Data : 11534 , Image shape : (176, 256, 256)\n",
      "Num : 03 , Data : 11498 , Image shape : (180, 256, 256)\n",
      "Num : 03 , Data : 6002 , Image shape : (142, 256, 256)\n",
      "Num : 03 , Data : 6702 , Image shape : (160, 256, 256)\n",
      "Num : 03 , Data : 12259 , Image shape : (178, 256, 256)\n",
      "Num : 03 , Data : 12735 , Image shape : (155, 256, 256)\n",
      "----------------------------------------------------------------\n"
     ]
    }
   ],
   "source": [
    "to_path = './data/'\n",
    "\n",
    "num_path = os.listdir(to_path)\n",
    "num_path.remove('.ipynb_checkpoints')\n",
    "num_path.remove('data_2d.npz')\n",
    "num_path.remove('data_3d.npz')\n",
    "num_path.sort()\n",
    "\n",
    "data_img = {}\n",
    "data_lab = {}\n",
    "for num in num_path:\n",
    "    data_path = os.listdir(to_path+num)\n",
    "    \n",
    "    #print(data_path)\n",
    "    for idx, data in enumerate(data_path):\n",
    "        \n",
    "        if data in ['12692', '11961'] : continue\n",
    "            \n",
    "        img, ground, ori_coor = make_data(to_path, num, data, use_scale=False)\n",
    "\n",
    "        img = resizing_data(img)\n",
    "        #img = np.reshape(img, [1,-1,256,256])\n",
    "        \n",
    "        ground = resizing_data(ground)\n",
    "        #ground = np.reshape(ground, [1,-1,256,256])\n",
    "        \n",
    "        if num =='01' and idx ==0:\n",
    "            data_img = img\n",
    "            data_lab = ground\n",
    "        else:\n",
    "            data_img = np.concatenate((data_img, img), axis=0)\n",
    "            data_lab = np.concatenate((data_lab, ground), axis=0)\n",
    "        print(\"Num : %s , Data : %s , Image shape : %s\"%(num,data,img.shape))\n",
    "    print(\"----------------------------------------------------------------\")\n",
    "        "
   ]
  },
  {
   "cell_type": "code",
   "execution_count": 9,
   "metadata": {},
   "outputs": [],
   "source": [
    "np.savez('/mnt/d/tumor/01', img=data_img, lab = data_lab)"
   ]
  },
  {
   "cell_type": "markdown",
   "metadata": {},
   "source": [
    "# 01\n",
    "---\n",
    "12575 : 171  \n",
    "12653 : 170  \n",
    "12692 : 156  \n",
    "12803 : 160  \n",
    "12841 : 156  \n",
    "\n",
    "# 02\n",
    "---\n",
    "11439 : :187.dcm   (:186) 186  \n",
    "11900 : 84.dcm:    (83:)  175  \n",
    "11906 : :152.dcm   (:151) 151  \n",
    "11961 : 25.dcm:    (24:)  167  \n",
    "12127 : 25.dcm:    (24:)  156  \n",
    "12280 : 25.dcm:    (24:)  139  \n",
    "12422 : 25.dcm:    (24:)  156  \n",
    "12459 : 25.dcm:    (24:)  163  \n",
    " 5569 : 25.dcm:    (24:)  152  \n",
    "\n",
    "# 03\n",
    "---\n",
    "11498 : 25.dcm:205.dcm (24:204)  180  \n",
    "11534 : 89.dcm:        (88:)     175  \n",
    "11760 : :185.dcm       (:184)    184  \n",
    "12259 : 25.dcm:203.dcm (24:202)  178  \n",
    "12735 : 25.dcm:        (24:)     154  \n",
    " 6002 : 61.dcm:203.dcm (60:202)  142  \n",
    " 6702 : :161.dcm       (:160)    160  \n",
    " 7360 : 25.dcm:        (24:)     157  "
   ]
  },
  {
   "cell_type": "markdown",
   "metadata": {},
   "source": [
    "# MAX, MIN\n",
    "---\n",
    "\n",
    "- max : 186\n",
    "- min : 139\n",
    "- mean : 160"
   ]
  }
 ],
 "metadata": {
  "kernelspec": {
   "display_name": "Python 3",
   "language": "python",
   "name": "python3"
  },
  "language_info": {
   "codemirror_mode": {
    "name": "ipython",
    "version": 3
   },
   "file_extension": ".py",
   "mimetype": "text/x-python",
   "name": "python",
   "nbconvert_exporter": "python",
   "pygments_lexer": "ipython3",
   "version": "3.5.2"
  }
 },
 "nbformat": 4,
 "nbformat_minor": 2
}
